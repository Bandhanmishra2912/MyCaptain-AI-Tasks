{
 "cells": [
  {
   "cell_type": "code",
   "execution_count": 1,
   "metadata": {},
   "outputs": [
    {
     "name": "stdout",
     "output_type": "stream",
     "text": [
      "Input: list1 = [12, -7, 5, 64, -14]\n",
      "Output: 12, 5, 64\n",
      "Input: list2 = [12, 14, -95, 3]\n",
      "Output: [12, 14, 3]\n"
     ]
    }
   ],
   "source": [
    "def print_positive_numbers(lst):\n",
    "    positive_numbers = [num for num in lst if num > 0]\n",
    "    print(\"Output:\", \", \".join(map(str, positive_numbers)))\n",
    "\n",
    "def get_positive_numbers(lst):\n",
    "    return [num for num in lst if num > 0]\n",
    "\n",
    "# Input lists\n",
    "list1 = [12, -7, 5, 64, -14]\n",
    "list2 = [12, 14, -95, 3]\n",
    "\n",
    "# Printing outputs\n",
    "print(\"Input: list1 =\", list1)\n",
    "print_positive_numbers(list1)\n",
    "\n",
    "print(\"Input: list2 =\", list2)\n",
    "print(\"Output:\", get_positive_numbers(list2))"
   ]
  }
 ],
 "metadata": {
  "kernelspec": {
   "display_name": "Python 3",
   "language": "python",
   "name": "python3"
  },
  "language_info": {
   "codemirror_mode": {
    "name": "ipython",
    "version": 3
   },
   "file_extension": ".py",
   "mimetype": "text/x-python",
   "name": "python",
   "nbconvert_exporter": "python",
   "pygments_lexer": "ipython3",
   "version": "3.11.0"
  }
 },
 "nbformat": 4,
 "nbformat_minor": 2
}
